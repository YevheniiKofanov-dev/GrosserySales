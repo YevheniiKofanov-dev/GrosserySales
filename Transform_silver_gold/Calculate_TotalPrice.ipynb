{
 "cells": [
  {
   "cell_type": "code",
   "execution_count": 0,
   "metadata": {
    "application/vnd.databricks.v1+cell": {
     "cellMetadata": {
      "byteLimit": 2048000,
      "implicitDf": true,
      "rowLimit": 10000
     },
     "inputWidgets": {},
     "nuid": "f0abc8bd-1a50-4e2d-969b-9e2793ad451e",
     "showTitle": false,
     "tableResultSettingsMap": {},
     "title": ""
    }
   },
   "outputs": [],
   "source": [
    "%sql\n",
    "MERGE INTO grosserysales.dltschema.fact_sales AS t\n",
    "USING grosserysales.dltschema.dim_products AS s\n",
    "ON t.ProductID = s.ProductID AND s.__END_AT IS NULL\n",
    "WHEN MATCHED THEN\n",
    "  UPDATE SET t.TotalPrice = s.Price * t.Quantity * (1 - t.Discount)/100.00;"
   ]
  }
 ],
 "metadata": {
  "application/vnd.databricks.v1+notebook": {
   "computePreferences": null,
   "dashboards": [],
   "environmentMetadata": {
    "base_environment": "",
    "environment_version": "3"
   },
   "inputWidgetPreferences": null,
   "language": "python",
   "notebookMetadata": {
    "mostRecentlyExecutedCommandWithImplicitDF": {
     "commandId": 8579413193733078,
     "dataframes": [
      "_sqldf"
     ]
    },
    "pythonIndentUnit": 4
   },
   "notebookName": "Calculate_TotalPrice",
   "widgets": {}
  },
  "language_info": {
   "name": "python"
  }
 },
 "nbformat": 4,
 "nbformat_minor": 0
}
